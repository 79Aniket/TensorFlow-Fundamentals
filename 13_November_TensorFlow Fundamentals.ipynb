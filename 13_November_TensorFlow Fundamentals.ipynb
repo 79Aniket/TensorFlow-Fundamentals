{
 "cells": [
  {
   "cell_type": "code",
   "execution_count": 1,
   "id": "6b1a1bdb-4566-42d2-91e6-f9a3f9f19322",
   "metadata": {},
   "outputs": [
    {
     "name": "stdout",
     "output_type": "stream",
     "text": [
      "Requirement already satisfied: tensorflow in /opt/conda/lib/python3.10/site-packages (2.14.0)\n",
      "Requirement already satisfied: opt-einsum>=2.3.2 in /opt/conda/lib/python3.10/site-packages (from tensorflow) (3.3.0)\n",
      "Requirement already satisfied: typing-extensions>=3.6.6 in /opt/conda/lib/python3.10/site-packages (from tensorflow) (4.4.0)\n",
      "Requirement already satisfied: setuptools in /opt/conda/lib/python3.10/site-packages (from tensorflow) (65.5.1)\n",
      "Requirement already satisfied: six>=1.12.0 in /opt/conda/lib/python3.10/site-packages (from tensorflow) (1.16.0)\n",
      "Requirement already satisfied: keras<2.15,>=2.14.0 in /opt/conda/lib/python3.10/site-packages (from tensorflow) (2.14.0)\n",
      "Requirement already satisfied: libclang>=13.0.0 in /opt/conda/lib/python3.10/site-packages (from tensorflow) (16.0.6)\n",
      "Requirement already satisfied: wrapt<1.15,>=1.11.0 in /opt/conda/lib/python3.10/site-packages (from tensorflow) (1.14.1)\n",
      "Requirement already satisfied: tensorflow-estimator<2.15,>=2.14.0 in /opt/conda/lib/python3.10/site-packages (from tensorflow) (2.14.0)\n",
      "Requirement already satisfied: astunparse>=1.6.0 in /opt/conda/lib/python3.10/site-packages (from tensorflow) (1.6.3)\n",
      "Requirement already satisfied: flatbuffers>=23.5.26 in /opt/conda/lib/python3.10/site-packages (from tensorflow) (23.5.26)\n",
      "Requirement already satisfied: google-pasta>=0.1.1 in /opt/conda/lib/python3.10/site-packages (from tensorflow) (0.2.0)\n",
      "Requirement already satisfied: protobuf!=4.21.0,!=4.21.1,!=4.21.2,!=4.21.3,!=4.21.4,!=4.21.5,<5.0.0dev,>=3.20.3 in /opt/conda/lib/python3.10/site-packages (from tensorflow) (4.21.11)\n",
      "Requirement already satisfied: h5py>=2.9.0 in /opt/conda/lib/python3.10/site-packages (from tensorflow) (3.7.0)\n",
      "Requirement already satisfied: absl-py>=1.0.0 in /opt/conda/lib/python3.10/site-packages (from tensorflow) (2.0.0)\n",
      "Requirement already satisfied: termcolor>=1.1.0 in /opt/conda/lib/python3.10/site-packages (from tensorflow) (2.3.0)\n",
      "Requirement already satisfied: grpcio<2.0,>=1.24.3 in /opt/conda/lib/python3.10/site-packages (from tensorflow) (1.59.2)\n",
      "Requirement already satisfied: numpy>=1.23.5 in /opt/conda/lib/python3.10/site-packages (from tensorflow) (1.23.5)\n",
      "Requirement already satisfied: packaging in /opt/conda/lib/python3.10/site-packages (from tensorflow) (22.0)\n",
      "Requirement already satisfied: tensorboard<2.15,>=2.14 in /opt/conda/lib/python3.10/site-packages (from tensorflow) (2.14.1)\n",
      "Requirement already satisfied: ml-dtypes==0.2.0 in /opt/conda/lib/python3.10/site-packages (from tensorflow) (0.2.0)\n",
      "Requirement already satisfied: gast!=0.5.0,!=0.5.1,!=0.5.2,>=0.2.1 in /opt/conda/lib/python3.10/site-packages (from tensorflow) (0.5.4)\n",
      "Requirement already satisfied: tensorflow-io-gcs-filesystem>=0.23.1 in /opt/conda/lib/python3.10/site-packages (from tensorflow) (0.34.0)\n",
      "Requirement already satisfied: wheel<1.0,>=0.23.0 in /opt/conda/lib/python3.10/site-packages (from astunparse>=1.6.0->tensorflow) (0.38.4)\n",
      "Requirement already satisfied: google-auth-oauthlib<1.1,>=0.5 in /opt/conda/lib/python3.10/site-packages (from tensorboard<2.15,>=2.14->tensorflow) (1.0.0)\n",
      "Requirement already satisfied: markdown>=2.6.8 in /opt/conda/lib/python3.10/site-packages (from tensorboard<2.15,>=2.14->tensorflow) (3.5.1)\n",
      "Requirement already satisfied: werkzeug>=1.0.1 in /opt/conda/lib/python3.10/site-packages (from tensorboard<2.15,>=2.14->tensorflow) (3.0.1)\n",
      "Requirement already satisfied: requests<3,>=2.21.0 in /opt/conda/lib/python3.10/site-packages (from tensorboard<2.15,>=2.14->tensorflow) (2.28.1)\n",
      "Requirement already satisfied: google-auth<3,>=1.6.3 in /opt/conda/lib/python3.10/site-packages (from tensorboard<2.15,>=2.14->tensorflow) (2.23.4)\n",
      "Requirement already satisfied: tensorboard-data-server<0.8.0,>=0.7.0 in /opt/conda/lib/python3.10/site-packages (from tensorboard<2.15,>=2.14->tensorflow) (0.7.2)\n",
      "Requirement already satisfied: cachetools<6.0,>=2.0.0 in /opt/conda/lib/python3.10/site-packages (from google-auth<3,>=1.6.3->tensorboard<2.15,>=2.14->tensorflow) (5.3.2)\n",
      "Requirement already satisfied: rsa<5,>=3.1.4 in /opt/conda/lib/python3.10/site-packages (from google-auth<3,>=1.6.3->tensorboard<2.15,>=2.14->tensorflow) (4.9)\n",
      "Requirement already satisfied: pyasn1-modules>=0.2.1 in /opt/conda/lib/python3.10/site-packages (from google-auth<3,>=1.6.3->tensorboard<2.15,>=2.14->tensorflow) (0.3.0)\n",
      "Requirement already satisfied: requests-oauthlib>=0.7.0 in /opt/conda/lib/python3.10/site-packages (from google-auth-oauthlib<1.1,>=0.5->tensorboard<2.15,>=2.14->tensorflow) (1.3.1)\n",
      "Requirement already satisfied: urllib3<1.27,>=1.21.1 in /opt/conda/lib/python3.10/site-packages (from requests<3,>=2.21.0->tensorboard<2.15,>=2.14->tensorflow) (1.26.13)\n",
      "Requirement already satisfied: charset-normalizer<3,>=2 in /opt/conda/lib/python3.10/site-packages (from requests<3,>=2.21.0->tensorboard<2.15,>=2.14->tensorflow) (2.1.1)\n",
      "Requirement already satisfied: idna<4,>=2.5 in /opt/conda/lib/python3.10/site-packages (from requests<3,>=2.21.0->tensorboard<2.15,>=2.14->tensorflow) (3.4)\n",
      "Requirement already satisfied: certifi>=2017.4.17 in /opt/conda/lib/python3.10/site-packages (from requests<3,>=2.21.0->tensorboard<2.15,>=2.14->tensorflow) (2022.12.7)\n",
      "Requirement already satisfied: MarkupSafe>=2.1.1 in /opt/conda/lib/python3.10/site-packages (from werkzeug>=1.0.1->tensorboard<2.15,>=2.14->tensorflow) (2.1.1)\n",
      "Requirement already satisfied: pyasn1<0.6.0,>=0.4.6 in /opt/conda/lib/python3.10/site-packages (from pyasn1-modules>=0.2.1->google-auth<3,>=1.6.3->tensorboard<2.15,>=2.14->tensorflow) (0.5.0)\n",
      "Requirement already satisfied: oauthlib>=3.0.0 in /opt/conda/lib/python3.10/site-packages (from requests-oauthlib>=0.7.0->google-auth-oauthlib<1.1,>=0.5->tensorboard<2.15,>=2.14->tensorflow) (3.2.2)\n",
      "Note: you may need to restart the kernel to use updated packages.\n"
     ]
    }
   ],
   "source": [
    "pip install tensorflow"
   ]
  },
  {
   "cell_type": "markdown",
   "id": "6737a2b5-ba33-4764-9859-59020a77c198",
   "metadata": {},
   "source": [
    "\n",
    "## Part 1: Theoretical Queltionk\n",
    "## 1.What are the different data structures used in Tensorflow?. Give some examplesc"
   ]
  },
  {
   "cell_type": "markdown",
   "id": "83ad882d-3834-4402-9815-b5bb0effe955",
   "metadata": {},
   "source": [
    "## Tensors: The fundamental data structure in TensorFlow is the tensor, a multidimensional array capable of storing various data types, including integers, floats, strings, and booleans. Tensors represent data flowing through the computational graph, forming the backbone of TensorFlow operations. \n",
    "## Example:  A rank-2 tensor representing a 2D image could have dimensions [height, width], where each element corresponds to a pixel intensity value.\n",
    "\n",
    "## Ragged Tensors: Ragged tensors are an extension of traditional tensors designed to handle data with varying lengths along one or more dimensions. They efficiently represent sequences of different lengths, such as text sentences or time series data.\n",
    "## Example: A ragged tensor could represent a batch of text sentences, where each element is a variable-length array of words.\n",
    "\n",
    "## Sparse Tensors: Sparse tensors are optimized for storing data with a large proportion of zero values. They represent only the non-zero elements, significantly reducing memory usage and improving computational efficiency for sparse data.\n",
    "## Example: A sparse tensor could represent a user-item interaction matrix, where most entries are zeros indicating no interaction, and only the non-zero elements represent interactions."
   ]
  },
  {
   "cell_type": "markdown",
   "id": "29d5276d-3a76-46f4-90c6-55cf10791ef3",
   "metadata": {},
   "source": []
  },
  {
   "cell_type": "markdown",
   "id": "163f9a4e-40fa-45a5-8a76-cb0f2d0c5edd",
   "metadata": {},
   "source": [
    "## 2. How does the TensorFlow constant differ from a TensorFlow variable? Explain with an example."
   ]
  },
  {
   "cell_type": "markdown",
   "id": "6a2d717b-e33e-4835-9f70-13a26f245538",
   "metadata": {},
   "source": [
    "## TensorFlow Constants:\n",
    "## Constants are created using tf.constant().\n",
    "## Constants have fixed values that cannot be changed after initialization\n",
    "\n",
    "## TensorFlow Variables:\n",
    "## Variables are created using tf.Variable() and require an initial value.\n",
    "## Variables can be modified during the execution of a TensorFlow program using methods like assign."
   ]
  },
  {
   "cell_type": "code",
   "execution_count": null,
   "id": "86470e4f-b358-43d2-9658-f56228b2f01c",
   "metadata": {},
   "outputs": [],
   "source": []
  },
  {
   "cell_type": "markdown",
   "id": "12cd21f6-169d-415c-b98b-69b98d673752",
   "metadata": {},
   "source": [
    "## 3.Describe the process of matrix addition, multiplication, and elementDwise operations in TensorFlow."
   ]
  },
  {
   "cell_type": "markdown",
   "id": "b6163f32-8d94-466e-b90f-4370e91feb50",
   "metadata": {},
   "source": [
    "## Matrix Addition: Matrix addition in TensorFlow is performed using the tf.add() function. This function takes two tensors of the same shape and adds their corresponding elements. The resulting tensor will have the same shape as the input tensors.\n",
    "\n",
    "## Multiplication: Matrix multiplication in TensorFlow is performed using the tf.matmul() function. It takes two matrices as input and returns their product. The matrices must have compatible dimensions for multiplication to be valid. The first matrix must have dimensions (m x n) and the second matrix must have dimensions (n x p) to produce a resulting matrix with dimensions (m x p).\n",
    "\n",
    "## Element-wise Operations: Element-wise operations in TensorFlow are performed using functions like tf.multiply(), tf.add(), tf.subtract(), and tf.divide(). These functions take two tensors as input and perform the corresponding element-wise operation on them. The tensors must have the same shape for the operation to be valid. If the shapes are not compatible, TensorFlow will automatically broadcast the smaller tensor to match the larger one."
   ]
  },
  {
   "cell_type": "code",
   "execution_count": null,
   "id": "fd7417ea-8ce3-4ad8-b17f-3900bd03fe17",
   "metadata": {},
   "outputs": [],
   "source": []
  },
  {
   "cell_type": "markdown",
   "id": "2a5486af-52ac-46f7-bebd-47efc1a93591",
   "metadata": {},
   "source": [
    "##  Part2: Practical Implementation.\n",
    "## Talk 1: Creating and Manipulating Matrices\n",
    "## 1. Create a normal matrix A with dimensions 2x2, using TensorFlow's random_normal function. Display the values of matrix A"
   ]
  },
  {
   "cell_type": "code",
   "execution_count": 44,
   "id": "65bb8718-f987-490b-83f3-2a6fd1035794",
   "metadata": {},
   "outputs": [
    {
     "data": {
      "text/plain": [
       "<tf.Tensor: shape=(2, 2), dtype=float32, numpy=\n",
       "array([[ 0.04542409, -1.1554974 ],\n",
       "       [ 0.6262364 ,  1.4490418 ]], dtype=float32)>"
      ]
     },
     "execution_count": 44,
     "metadata": {},
     "output_type": "execute_result"
    }
   ],
   "source": [
    "import tensorflow as tf\n",
    "import warnings\n",
    "\n",
    "A = tf.random.normal(shape=(2,2), mean=0, stddev=1.0)\n",
    "A"
   ]
  },
  {
   "cell_type": "markdown",
   "id": "4288889f-dc4c-4d25-b81a-e052d5df0d25",
   "metadata": {},
   "source": [
    "## 2.Create a Gaussian matrix B with dimensions x, using TensorFlow's truncated_normal function. Display the values of matrix B"
   ]
  },
  {
   "cell_type": "code",
   "execution_count": 45,
   "id": "4a257604-db51-4551-a141-b386aef8e93b",
   "metadata": {},
   "outputs": [
    {
     "data": {
      "text/plain": [
       "<tf.Tensor: shape=(2, 2), dtype=float32, numpy=\n",
       "array([[-1.4912187 , -0.70473677],\n",
       "       [ 0.6188489 , -0.871338  ]], dtype=float32)>"
      ]
     },
     "execution_count": 45,
     "metadata": {},
     "output_type": "execute_result"
    }
   ],
   "source": [
    "x = 2\n",
    "# Create a Gaussian matrix B with dimensions x\n",
    "B = tf.random.truncated_normal(shape=(x, x), mean=0, stddev=1.0, dtype=tf.float32)\n",
    "B"
   ]
  },
  {
   "cell_type": "code",
   "execution_count": null,
   "id": "cc1bb3d0-36d9-4eb1-bbca-03db627c53d5",
   "metadata": {},
   "outputs": [],
   "source": []
  },
  {
   "cell_type": "markdown",
   "id": "6b611282-42e0-4eee-bac2-19d738ad9699",
   "metadata": {},
   "source": [
    "## 3.Create a matrix C with dimensions 2x2, where the values are drawn from a normal distribution with a mean of 2 and a standard deviation of 0.x, using TensorFlow's random.normal function. Display the values of matrix c"
   ]
  },
  {
   "cell_type": "code",
   "execution_count": 46,
   "id": "c9418100-d8ba-484f-ba4f-e7ce38de9972",
   "metadata": {},
   "outputs": [
    {
     "data": {
      "text/plain": [
       "<tf.Tensor: shape=(2, 2), dtype=float32, numpy=\n",
       "array([[2.3268077, 1.9364322],\n",
       "       [1.9602354, 1.8697691]], dtype=float32)>"
      ]
     },
     "execution_count": 46,
     "metadata": {},
     "output_type": "execute_result"
    }
   ],
   "source": [
    "C = tf.random.normal(shape =(2,2) , mean=2 , stddev=0.2)\n",
    "C"
   ]
  },
  {
   "cell_type": "code",
   "execution_count": null,
   "id": "c3c42385-e33c-40d7-9fe5-5c9177fc521c",
   "metadata": {},
   "outputs": [],
   "source": []
  },
  {
   "cell_type": "markdown",
   "id": "0d7608aa-6482-4af3-bb51-702dd1d67606",
   "metadata": {},
   "source": [
    "## 4.Perform matrix addition between matrix A and matrix B, and store the result in matrix D."
   ]
  },
  {
   "cell_type": "code",
   "execution_count": 47,
   "id": "4a13488f-8e9c-4f81-bce6-38e22c649730",
   "metadata": {},
   "outputs": [
    {
     "data": {
      "text/plain": [
       "<tf.Tensor: shape=(2, 2), dtype=float32, numpy=\n",
       "array([[-0.5350866 ,  0.34832734],\n",
       "       [ 0.49547184,  1.206335  ]], dtype=float32)>"
      ]
     },
     "execution_count": 47,
     "metadata": {},
     "output_type": "execute_result"
    }
   ],
   "source": [
    "# Perform matrix addition between A and B\n",
    "A = tf.random.normal(shape=(2,2), mean=0, stddev=1.0)\n",
    "\n",
    "B = tf.random.truncated_normal(shape=(2, 2), mean=0, stddev=1.0, dtype=tf.float32)\n",
    "\n",
    "D = A+B\n",
    "D"
   ]
  },
  {
   "cell_type": "code",
   "execution_count": null,
   "id": "a5cbe7f9-5e4d-451d-85bd-89ad6353a5ef",
   "metadata": {},
   "outputs": [],
   "source": []
  },
  {
   "cell_type": "markdown",
   "id": "7b962ac2-9491-4c1f-8c9f-516df887f0d4",
   "metadata": {},
   "source": [
    "## 5. Perform matrix multiplication between matrix C and matrix D, and store the result in matrix E."
   ]
  },
  {
   "cell_type": "code",
   "execution_count": 48,
   "id": "aacc19e0-6bad-45f3-a748-6f3804c4e7e3",
   "metadata": {},
   "outputs": [
    {
     "data": {
      "text/plain": [
       "<tf.Tensor: shape=(2, 2), dtype=float32, numpy=\n",
       "array([[-0.285596  ,  3.1464767 ],\n",
       "       [-0.12247765,  2.9383714 ]], dtype=float32)>"
      ]
     },
     "execution_count": 48,
     "metadata": {},
     "output_type": "execute_result"
    }
   ],
   "source": [
    "# Perform matrix multiplication between C and D\n",
    "E = tf.matmul(C, D)\n",
    "E"
   ]
  },
  {
   "cell_type": "code",
   "execution_count": null,
   "id": "c99dfae4-11d2-4400-8b4e-0e6f7e116491",
   "metadata": {},
   "outputs": [],
   "source": []
  },
  {
   "cell_type": "markdown",
   "id": "71d642cb-298e-4d46-8d89-132f855bccc8",
   "metadata": {},
   "source": [
    "## Talk 2: Per;orming Additional Matrix Operationk\n",
    "## 1.Create a matrix F with dimensions 2x2, initialized with random values using TensorFlow's random_uniform functionc"
   ]
  },
  {
   "cell_type": "code",
   "execution_count": 39,
   "id": "dbfe7f3c-e41f-48af-bf60-82a678f33c43",
   "metadata": {},
   "outputs": [
    {
     "data": {
      "text/plain": [
       "<tf.Tensor: shape=(2, 2), dtype=float32, numpy=\n",
       "array([[9.395036, 5.947405],\n",
       "       [8.516697, 0.815568]], dtype=float32)>"
      ]
     },
     "execution_count": 39,
     "metadata": {},
     "output_type": "execute_result"
    }
   ],
   "source": [
    "# Create a 2x2 matrix of random uniform values between 0 and 10\n",
    "F = tf.random.uniform(shape=(2,2), minval=0, maxval=10)\n",
    "F"
   ]
  },
  {
   "cell_type": "code",
   "execution_count": null,
   "id": "65cf5993-687e-416d-a70e-d55f1e827f35",
   "metadata": {},
   "outputs": [],
   "source": []
  },
  {
   "cell_type": "markdown",
   "id": "2b5e8774-3dea-464b-8b98-f2a2b74f39ee",
   "metadata": {},
   "source": [
    "## 2.Calculate the transpose of matrix F and store the result in matrix G."
   ]
  },
  {
   "cell_type": "code",
   "execution_count": 40,
   "id": "9ae6c810-e6a3-4a79-bdcb-e71a5f228f5b",
   "metadata": {},
   "outputs": [
    {
     "data": {
      "text/plain": [
       "<tf.Tensor: shape=(2, 2), dtype=float32, numpy=\n",
       "array([[9.395036, 8.516697],\n",
       "       [5.947405, 0.815568]], dtype=float32)>"
      ]
     },
     "execution_count": 40,
     "metadata": {},
     "output_type": "execute_result"
    }
   ],
   "source": [
    "# Calculate the transpose of matrix F\n",
    "G = tf.transpose(F)\n",
    "G"
   ]
  },
  {
   "cell_type": "code",
   "execution_count": null,
   "id": "3e15fd39-3d27-459b-88f7-a0e665cdfb07",
   "metadata": {},
   "outputs": [],
   "source": []
  },
  {
   "cell_type": "markdown",
   "id": "268b25ce-3be3-4f31-9646-e5ac4d92ea67",
   "metadata": {},
   "source": [
    "## 3.Calculate the elementDwise exponential of matrix F and store the result in matrix H."
   ]
  },
  {
   "cell_type": "code",
   "execution_count": 41,
   "id": "3fc1ebd1-9052-4d48-a396-03c82d9b4c98",
   "metadata": {},
   "outputs": [
    {
     "data": {
      "text/plain": [
       "<tf.Tensor: shape=(2, 2), dtype=float32, numpy=\n",
       "array([[1.2028520e+04, 3.8275873e+02],\n",
       "       [4.9975195e+03, 2.2604592e+00]], dtype=float32)>"
      ]
     },
     "execution_count": 41,
     "metadata": {},
     "output_type": "execute_result"
    }
   ],
   "source": [
    "# calculate the ElementDwise Exponential of maxtrix F\n",
    "H = tf.exp(F)\n",
    "H"
   ]
  },
  {
   "cell_type": "code",
   "execution_count": null,
   "id": "3844b5fe-2130-40d7-ae6d-a81b8beed3fb",
   "metadata": {},
   "outputs": [],
   "source": []
  },
  {
   "cell_type": "markdown",
   "id": "ea964eb7-d578-4e66-bb99-ef850bd6edaf",
   "metadata": {},
   "source": [
    "## 4.Create a matrix I by concatenating matrix F and matrix G horizontally."
   ]
  },
  {
   "cell_type": "code",
   "execution_count": 42,
   "id": "b592ee4d-366f-40f4-91f1-9a6ddb646877",
   "metadata": {},
   "outputs": [
    {
     "data": {
      "text/plain": [
       "<tf.Tensor: shape=(2, 4), dtype=float32, numpy=\n",
       "array([[9.395036, 5.947405, 9.395036, 8.516697],\n",
       "       [8.516697, 0.815568, 5.947405, 0.815568]], dtype=float32)>"
      ]
     },
     "execution_count": 42,
     "metadata": {},
     "output_type": "execute_result"
    }
   ],
   "source": [
    "# Concatenate matrix F and matrix G horizontally\n",
    "I = tf.concat([F, G], axis=1)\n",
    "I"
   ]
  },
  {
   "cell_type": "code",
   "execution_count": null,
   "id": "be20a0ef-944c-4a58-81b7-5328ab3a3d05",
   "metadata": {},
   "outputs": [],
   "source": []
  },
  {
   "cell_type": "markdown",
   "id": "5bda2e45-2574-406a-84f0-ec4095f2f33a",
   "metadata": {},
   "source": [
    "## 5.Create a matrix J by concatenating matrix F and matrix H vertically."
   ]
  },
  {
   "cell_type": "code",
   "execution_count": 43,
   "id": "e309fd62-1dfe-4766-ae51-6c87483c41a0",
   "metadata": {},
   "outputs": [
    {
     "data": {
      "text/plain": [
       "<tf.Tensor: shape=(4, 2), dtype=float32, numpy=\n",
       "array([[9.3950357e+00, 5.9474049e+00],\n",
       "       [8.5166969e+00, 8.1556797e-01],\n",
       "       [1.2028520e+04, 3.8275873e+02],\n",
       "       [4.9975195e+03, 2.2604592e+00]], dtype=float32)>"
      ]
     },
     "execution_count": 43,
     "metadata": {},
     "output_type": "execute_result"
    }
   ],
   "source": [
    "# Concatenate matrix F and matrix H vertically\n",
    "J = tf.concat([F, H], axis=0)\n",
    "J"
   ]
  },
  {
   "cell_type": "code",
   "execution_count": null,
   "id": "163624a6-1f3c-44cf-98bf-ba0dc0da5615",
   "metadata": {},
   "outputs": [],
   "source": []
  }
 ],
 "metadata": {
  "kernelspec": {
   "display_name": "Python 3 (ipykernel)",
   "language": "python",
   "name": "python3"
  },
  "language_info": {
   "codemirror_mode": {
    "name": "ipython",
    "version": 3
   },
   "file_extension": ".py",
   "mimetype": "text/x-python",
   "name": "python",
   "nbconvert_exporter": "python",
   "pygments_lexer": "ipython3",
   "version": "3.10.8"
  }
 },
 "nbformat": 4,
 "nbformat_minor": 5
}
